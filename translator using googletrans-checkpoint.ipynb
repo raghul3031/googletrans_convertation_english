{
 "cells": [
  {
   "cell_type": "code",
   "execution_count": 44,
   "metadata": {},
   "outputs": [],
   "source": [
    "import pandas as pd\n",
    "from googletrans import Translator"
   ]
  },
  {
   "cell_type": "code",
   "execution_count": 2,
   "metadata": {},
   "outputs": [],
   "source": [
    "data= pd.read_csv(r'C:\\Users\\my pc\\Downloads\\onemg_detail.csv')"
   ]
  },
  {
   "cell_type": "code",
   "execution_count": 3,
   "metadata": {},
   "outputs": [
    {
     "data": {
      "text/plain": [
       "Index(['medName', 'manufacturer', 'Marketer Address', 'prescription_req',\n",
       "       'selling_price', 'salts', 'Units in Pack', 'Pack Size',\n",
       "       'Unit of Measurement', 'pack form', 'in_stock', 'Introduction', 'uses',\n",
       "       'benefits', 'directions', 'How medicine works', 'If you forgot to take',\n",
       "       'Quick Tips', 'side_effects', 'How to cope with side effects',\n",
       "       'precautions', 'pageURL', 'strength_in_mg', 'overall_strength'],\n",
       "      dtype='object')"
      ]
     },
     "execution_count": 3,
     "metadata": {},
     "output_type": "execute_result"
    }
   ],
   "source": [
    "data.columns"
   ]
  },
  {
   "cell_type": "code",
   "execution_count": 4,
   "metadata": {},
   "outputs": [],
   "source": [
    "data.drop(['medName', 'manufacturer', 'Marketer Address', 'prescription_req','selling_price', 'salts', 'Units in Pack', 'Pack Size',\n",
    "       'Unit of Measurement', 'pack form', 'in_stock', 'uses', 'directions', 'How medicine works', 'If you forgot to take',\n",
    "       'Quick Tips', 'How to cope with side effects','pageURL', 'strength_in_mg', 'overall_strength','benefits'],axis =1,inplace = True)"
   ]
  },
  {
   "cell_type": "code",
   "execution_count": 5,
   "metadata": {},
   "outputs": [
    {
     "data": {
      "text/html": [
       "<div>\n",
       "<style scoped>\n",
       "    .dataframe tbody tr th:only-of-type {\n",
       "        vertical-align: middle;\n",
       "    }\n",
       "\n",
       "    .dataframe tbody tr th {\n",
       "        vertical-align: top;\n",
       "    }\n",
       "\n",
       "    .dataframe thead th {\n",
       "        text-align: right;\n",
       "    }\n",
       "</style>\n",
       "<table border=\"1\" class=\"dataframe\">\n",
       "  <thead>\n",
       "    <tr style=\"text-align: right;\">\n",
       "      <th></th>\n",
       "      <th>Introduction</th>\n",
       "      <th>side_effects</th>\n",
       "      <th>precautions</th>\n",
       "    </tr>\n",
       "  </thead>\n",
       "  <tbody>\n",
       "    <tr>\n",
       "      <th>0</th>\n",
       "      <td>Acnesol Gel is an antibiotic that fights bacte...</td>\n",
       "      <td>Application site reactions (burning, irritatio...</td>\n",
       "      <td>The previous suggestion is for Alcohol.Acnesol...</td>\n",
       "    </tr>\n",
       "    <tr>\n",
       "      <th>1</th>\n",
       "      <td>Ambrodil Syrup is used for treating various re...</td>\n",
       "      <td>Vomiting,Nausea,Upset stomach</td>\n",
       "      <td>It is not known whether it is safe to consume ...</td>\n",
       "    </tr>\n",
       "    <tr>\n",
       "      <th>2</th>\n",
       "      <td>Augmentin 625 Duo Tablet is a penicillin-type ...</td>\n",
       "      <td>Vomiting,Nausea,Diarrhea</td>\n",
       "      <td>Consuming alcohol with Augmentin 625 Duo Table...</td>\n",
       "    </tr>\n",
       "    <tr>\n",
       "      <th>3</th>\n",
       "      <td>Azithral 500 Tablet is an antibiotic used to t...</td>\n",
       "      <td>Vomiting,Nausea,Abdominal pain,Diarrhea</td>\n",
       "      <td>It is unsafe to consume alcohol with Azithral ...</td>\n",
       "    </tr>\n",
       "    <tr>\n",
       "      <th>4</th>\n",
       "      <td>Alkasol Oral Solution is a medicine used in th...</td>\n",
       "      <td>Stomach pain,Tiredness,Diarrhea,Nausea,Vomiting</td>\n",
       "      <td>It is not known whether it is safe to consume ...</td>\n",
       "    </tr>\n",
       "  </tbody>\n",
       "</table>\n",
       "</div>"
      ],
      "text/plain": [
       "                                        Introduction  \\\n",
       "0  Acnesol Gel is an antibiotic that fights bacte...   \n",
       "1  Ambrodil Syrup is used for treating various re...   \n",
       "2  Augmentin 625 Duo Tablet is a penicillin-type ...   \n",
       "3  Azithral 500 Tablet is an antibiotic used to t...   \n",
       "4  Alkasol Oral Solution is a medicine used in th...   \n",
       "\n",
       "                                        side_effects  \\\n",
       "0  Application site reactions (burning, irritatio...   \n",
       "1                      Vomiting,Nausea,Upset stomach   \n",
       "2                           Vomiting,Nausea,Diarrhea   \n",
       "3            Vomiting,Nausea,Abdominal pain,Diarrhea   \n",
       "4    Stomach pain,Tiredness,Diarrhea,Nausea,Vomiting   \n",
       "\n",
       "                                         precautions  \n",
       "0  The previous suggestion is for Alcohol.Acnesol...  \n",
       "1  It is not known whether it is safe to consume ...  \n",
       "2  Consuming alcohol with Augmentin 625 Duo Table...  \n",
       "3  It is unsafe to consume alcohol with Azithral ...  \n",
       "4  It is not known whether it is safe to consume ...  "
      ]
     },
     "execution_count": 5,
     "metadata": {},
     "output_type": "execute_result"
    }
   ],
   "source": [
    "data.head()"
   ]
  },
  {
   "cell_type": "code",
   "execution_count": 6,
   "metadata": {},
   "outputs": [
    {
     "data": {
      "text/plain": [
       "Introduction    0\n",
       "side_effects    0\n",
       "precautions     0\n",
       "dtype: int64"
      ]
     },
     "execution_count": 6,
     "metadata": {},
     "output_type": "execute_result"
    }
   ],
   "source": [
    "data.isnull().sum()"
   ]
  },
  {
   "cell_type": "code",
   "execution_count": 49,
   "metadata": {},
   "outputs": [],
   "source": [
    "trans1 = data.Introduction[1]"
   ]
  },
  {
   "cell_type": "code",
   "execution_count": 50,
   "metadata": {},
   "outputs": [
    {
     "data": {
      "text/plain": [
       "\"Ambrodil Syrup is used for treating various respiratory tract disorders associated with excessive mucus. It works by thinning and loosens mucus in the nose, windpipe and lungs and make it easier to cough out.Ambrodil Syrup should be taken with food. For better results, it is suggested to take it at the same time every day.\\xa0 The dose and how often you take it depends on what you are taking it for. Your doctor will decide how much you need to improve your symptoms.\\xa0 It is advised not to use it for more than 14 days without doctor consultation.The most common side effects of this medicine include vomiting, nausea, and stomach upset. Talk to your doctor if you are worried about side effects or they would not go away. Generally, it is advised not to take alcohol while on treatment.Before taking this medicine, tell your doctor if you have liver or kidney disease or if you have stomach problems. Your doctor should also know about all other medicines you are taking as many of these may make this medicine less effective or change the way it works. You must take doctor's advice before using this medicine if you are pregnant or breastfeeding.\\xa0\""
      ]
     },
     "execution_count": 50,
     "metadata": {},
     "output_type": "execute_result"
    }
   ],
   "source": [
    "trans1"
   ]
  },
  {
   "cell_type": "code",
   "execution_count": 51,
   "metadata": {},
   "outputs": [],
   "source": [
    "trans = Translator()"
   ]
  },
  {
   "cell_type": "code",
   "execution_count": 52,
   "metadata": {},
   "outputs": [],
   "source": [
    "t = trans.translate(trans1,src ='en',dest = 'hi')"
   ]
  },
  {
   "cell_type": "code",
   "execution_count": 53,
   "metadata": {},
   "outputs": [
    {
     "name": "stdout",
     "output_type": "stream",
     "text": [
      "Ambrodil Syrup का उपयोग श्वसन तंत्र के विभिन्न विकारों के लिए किया जाता है जो अत्यधिक बलगम से जुड़े होते हैं। यह नाक, विंडपाइप और फेफड़ों में बलगम को पतला और ढीला करके काम करता है और इसे बाहर खांसी करना आसान बनाता है। अम्ब्रोडिल सिरप को भोजन के साथ लेना चाहिए। बेहतर परिणामों के लिए, इसे हर दिन एक ही समय पर लेने का सुझाव दिया जाता है। खुराक और आप इसे कितनी बार लेते हैं यह इस बात पर निर्भर करता है कि आप इसे किस लिए ले रहे हैं। आपका डॉक्टर तय करेगा कि आपको अपने लक्षणों में सुधार करने की कितनी आवश्यकता है। यह सलाह दी जाती है कि बिना चिकित्सक परामर्श के 14 दिनों से अधिक समय तक इसका उपयोग न करें। इस दवा के सबसे आम दुष्प्रभावों में उल्टी, मतली और पेट खराब होना शामिल है। अपने डॉक्टर से बात करें यदि आप साइड इफेक्ट्स के बारे में चिंतित हैं या वे दूर नहीं जाएंगे। आमतौर पर, यह सलाह दी जाती है कि उपचार के दौरान शराब न लें। इस दवा को लेने से पहले, अपने चिकित्सक को बताएं कि क्या आपको यकृत या गुर्दे की बीमारी है या यदि आपको पेट की समस्या है। आपके डॉक्टर को उन सभी अन्य दवाओं के बारे में भी पता होना चाहिए जो आप ले रहे हैं, इनमें से कई इस दवा को कम प्रभावी बना सकती हैं या इसके काम करने के तरीके को बदल सकती हैं। यदि आप गर्भवती हैं या स्तनपान करा रही हैं तो इस दवा का उपयोग करने से पहले डॉक्टर की सलाह अवश्य लें।\n"
     ]
    }
   ],
   "source": [
    "print(t.text)"
   ]
  },
  {
   "cell_type": "code",
   "execution_count": null,
   "metadata": {},
   "outputs": [],
   "source": []
  }
 ],
 "metadata": {
  "kernelspec": {
   "display_name": "Python 3",
   "language": "python",
   "name": "python3"
  },
  "language_info": {
   "codemirror_mode": {
    "name": "ipython",
    "version": 3
   },
   "file_extension": ".py",
   "mimetype": "text/x-python",
   "name": "python",
   "nbconvert_exporter": "python",
   "pygments_lexer": "ipython3",
   "version": "3.7.6"
  }
 },
 "nbformat": 4,
 "nbformat_minor": 4
}
